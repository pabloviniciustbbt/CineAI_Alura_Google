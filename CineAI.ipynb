{
  "cells": [
    {
      "cell_type": "markdown",
      "metadata": {
        "id": "view-in-github",
        "colab_type": "text"
      },
      "source": [
        "<a href=\"https://colab.research.google.com/github/pabloviniciustbbt/Desafio_Alura_Google/blob/main/CineAI.ipynb\" target=\"_parent\"><img src=\"https://colab.research.google.com/assets/colab-badge.svg\" alt=\"Open In Colab\"/></a>"
      ]
    },
    {
      "cell_type": "code",
      "execution_count": 1,
      "metadata": {
        "id": "FEbrJ6eDTTqU"
      },
      "outputs": [],
      "source": [
        "# Instalar SDK do Google\n",
        "!pip install -q -U google-generativeai"
      ]
    },
    {
      "cell_type": "code",
      "execution_count": 2,
      "metadata": {
        "id": "VhlemNvBduqK"
      },
      "outputs": [],
      "source": [
        "#Configurando SDK e API KEY\n",
        "import google.generativeai as genai\n",
        "\n",
        "GOOGLE_API_KEY = \"GEMINI_API_KEY\"\n",
        "genai.configure(api_key=GOOGLE_API_KEY)"
      ]
    },
    {
      "cell_type": "code",
      "execution_count": 3,
      "metadata": {
        "id": "ujCcssYqd3oK"
      },
      "outputs": [],
      "source": [
        "#Configurando Parâmetros do Modelo\n",
        "generation_config = {\n",
        "    \"candidate_count\": 1,\n",
        "    \"temperature\": 0.5,\n",
        "}\n",
        "\n",
        "# Configurações de Segurança da Linguagem\n",
        "safety_settings = {\n",
        "    \"HARASSMENT\": \"BLOCK_MEDIUM_AND_ABOVE\",\n",
        "    \"HATE\": \"BLOCK_MEDIUM_AND_ABOVE\",\n",
        "    \"SEXUAL\": \"BLOCK_MEDIUM_AND_ABOVE\",\n",
        "    \"DANGEROUS\": \"BLOCK_MEDIUM_AND_ABOVE\",\n",
        "}\n",
        "\n",
        "# Inicializando o modelo\n",
        "model = genai.GenerativeModel(\n",
        "    model_name=\"gemini-1.0-pro-latest\",\n",
        "    safety_settings=safety_settings\n",
        ")\n",
        "\n",
        "\n",
        "\n",
        "# Criando o chat\n",
        "chat = model.start_chat(history=[])"
      ]
    },
    {
      "cell_type": "code",
      "source": [
        "# Gera recomendações de filmes com base em um filme fornecido\n",
        "def gerar_recomendacoes(filme, categoria, numero_recomendacoes=5):\n",
        "    prompt_gemini = (\n",
        "        f\"Imagine que você tem acesso a um banco de dados com milhares de filmes. \"\n",
        "        f\"Seu objetivo é recomendar filmes semelhantes a '{filme}', mas você só pode usar cada filme uma vez. \"\n",
        "        f\"Gere uma lista de {numero_recomendacoes} filmes com {categoria} semelhantes a '{filme}', no seguinte formato EXATO:\\n\"\n",
        "        f\"1. Título (Ano)- Sinopse (máximo 15 palavras).\\n\"\n",
        "        f\"2. Título (Ano)- Sinopse (máximo 15 palavras).\\n\"\n",
        "        f\" ...\\n\"\n",
        "        f\"{numero_recomendacoes}. Título (Ano)- Sinopse.\\n\"\n",
        "        f\"Não inclua nenhum texto introdutório ou conclusivo, apenas a lista formatada.\"\n",
        "        f\"Não utilize asteriscos (*) em nenhuma parte da resposta.\"\n",
        "        f\"Lembre-se: cada filme deve ser recomendado apenas uma vez, em uma única categoria. \"\n",
        "\n",
        ")\n",
        "    response = chat.send_message(prompt_gemini)\n",
        "\n",
        "    linhas = response.text.split('\\n')[0:]\n",
        "\n",
        "    saida_formatada = []\n",
        "    for linha in linhas:\n",
        "        if linha.strip():\n",
        "            posicao_dois_pontos = linha.find(\":\")\n",
        "            if posicao_dois_pontos != -1:\n",
        "                numero = linha[:posicao_dois_pontos].strip()\n",
        "                titulo_e_descricao = linha[posicao_dois_pontos + 1:].strip()\n",
        "                titulo_e_descricao = titulo_e_descricao.replace(\"**\", \"\")\n",
        "                saida_formatada.append(f\"{numero}. {titulo_e_descricao}\")\n",
        "            else:\n",
        "                saida_formatada.append(linha)\n",
        "    return \"\\n\".join(saida_formatada)\n",
        "\n",
        "# Loop principal\n",
        "prompt = input(\"Digite o nome de um filme: \")\n",
        "while prompt.lower() != \"fim\":\n",
        "    print(f\"\\n🎬 Filmes com estética similar a {prompt}:\\n\")\n",
        "    print(gerar_recomendacoes(prompt, \"estética\"))\n",
        "    print(f\"\\n\\n🎬 Filmes com temas semelhantes a {prompt}:\\n\")\n",
        "    print(gerar_recomendacoes(prompt, \"temas\"))\n",
        "    print(\"\\n\\n🎬 Outras sugestões:\\n\")\n",
        "    print(gerar_recomendacoes(prompt, \"elementos\", 2))  # Exemplo com 2 filmes\n",
        "    print(\"\\n\\nEspero que essas recomendações te ajudem a encontrar filmes que te agradem! 😊\")\n",
        "    print(\"\\n------------------------------------------------------------------------------------------------------------------------------------------------------------------------------\")\n",
        "    prompt = input(\"\\nDigite o nome de um filme: \")\n",
        "print(\"\\n------------------------------------------------------------------------------------------------------------------------------------------------------------------------------\")\n",
        "print(\"\\nObrigado por utilizar o sistema de recomendações! 😊 Até a próxima!\")"
      ],
      "metadata": {
        "colab": {
          "base_uri": "https://localhost:8080/",
          "height": 1000
        },
        "id": "9oBBny44_Caw",
        "outputId": "8c7bb555-d9a4-4af0-cac1-39f06975b7a0"
      },
      "execution_count": 7,
      "outputs": [
        {
          "output_type": "stream",
          "name": "stdout",
          "text": [
            "Digite o nome de um filme: Deadpool\n",
            "\n",
            "🎬 Filmes com estética similar a Deadpool:\n",
            "\n",
            "1. Kick-Ass (2010) - Adolescente comum decide se tornar um super-herói apesar de não ter superpoderes.\n",
            "2. Scott Pilgrim Contra o Mundo (2010) - Músico desafia os sete ex-namorados do mal de sua nova namorada.\n",
            "3. Guardiões da Galáxia (2014) - Grupo de desajustados se une para impedir que um vilão destrua o universo.\n",
            "4. Kingsman. Serviço Secreto (2014) - Jovem de rua é recrutado para uma agência de espionagem secreta e altamente tecnológica.\n",
            "5. John Wick. De Volta ao Jogo (2014) - Ex-assassino aposentado busca vingança após o assassinato de seu cachorro.\n",
            "\n",
            "\n",
            "🎬 Filmes com temas semelhantes a Deadpool:\n",
            "\n",
            "1. Zumbilândia (2009) - Um grupo de sobreviventes viaja pelos EUA após um apocalipse zumbi.\n",
            "2. Scott Pilgrim Contra o Mundo (2010) - Músico desafia os sete ex-namorados do mal de sua nova namorada.\n",
            "3. Guardiões da Galáxia (2014) - Grupo de desajustados se une para impedir que um vilão destrua o universo.\n",
            "4. Kingsman. Serviço Secreto (2014) - Jovem de rua é recrutado para uma agência de espionagem secreta e altamente tecnológica.\n",
            "5. John Wick. De Volta ao Jogo (2014) - Ex-assassino aposentado busca vingança após o assassinato de seu cachorro.\n",
            "\n",
            "\n",
            "🎬 Outras sugestões:\n",
            "\n",
            "1. Kingsman. Serviço Secreto (2014) - Jovem de rua é recrutado para uma agência de espionagem secreta e altamente tecnológica.\n",
            "2. John Wick. De Volta ao Jogo (2014) - Ex-assassino aposentado busca vingança após o assassinato de seu cachorro.\n",
            "\n",
            "\n",
            "Espero que essas recomendações te ajudem a encontrar filmes que te agradem! 😊\n",
            "\n",
            "------------------------------------------------------------------------------------------------------------------------------------------------------------------------------\n",
            "\n",
            "Digite o nome de um filme: Harry Potter\n",
            "\n",
            "🎬 Filmes com estética similar a Harry Potter:\n",
            "\n",
            "1. As Crônicas de Nárnia. O Leão, a Feiticeira e o Guarda-Roupa (2005) - Quatro crianças descobrem um mundo mágico através de um guarda-roupa e devem lutar contra uma feiticeira malvada.\n",
            "2. Stardust - O Mistério da Estrela Cadente (2007) - Jovem parte em uma aventura para buscar uma estrela cadente que caiu na Terra e é mais do que parece.\n",
            "3. Coraline (2009) - Jovem entediada descobre um mundo paralelo misterioso e sinistro escondido atrás de uma porta secreta.\n",
            "4. A Bússola de Ouro (2007) - Jovem órfã embarca em uma jornada para o Norte para resgatar seu amigo sequestrado e desvendar um segredo perigoso.\n",
            "5. A Princesa Prometida (1987) - Um jovem camponês parte em uma jornada para resgatar sua amada princesa de um príncipe malvado.\n",
            "\n",
            "\n",
            "🎬 Filmes com temas semelhantes a Harry Potter:\n",
            "\n",
            "1. As Crônicas de Nárnia. O Leão, a Feiticeira e o Guarda-Roupa (2005) - Quatro crianças descobrem um mundo mágico através de um guarda-roupa e devem lutar contra uma feiticeira malvada.\n",
            "2. Percy Jackson e o Ladrão de Raios (2010) - Adolescente descobre que é um semideus e deve recuperar um raio roubado de Zeus.\n",
            "3. A Escola do Bem e do Mal (2022) - Duas amigas são enviadas para uma escola de magia, mas são designadas para lados opostos da luta entre o bem e o mal.\n",
            "4. Os Instrumentos Mortais. Cidade dos Ossos (2013) - Jovem descobre que é uma Caçadora de Sombras e deve lutar contra demônios para proteger o mundo.\n",
            "5. A Bússola de Ouro (2007) - Jovem órfã embarca em uma jornada para o Norte para resgatar seu amigo sequestrado e desvendar um segredo perigoso.\n",
            "\n",
            "\n",
            "🎬 Outras sugestões:\n",
            "\n",
            "1. As Crônicas de Nárnia. O Leão, a Feiticeira e o Guarda-Roupa (2005) - Quatro crianças descobrem um mundo mágico através de um guarda-roupa e devem lutar contra uma feiticeira malvada.\n",
            "2. Percy Jackson e o Ladrão de Raios (2010) - Adolescente descobre que é um semideus e deve recuperar um raio roubado de Zeus.\n",
            "\n",
            "\n",
            "Espero que essas recomendações te ajudem a encontrar filmes que te agradem! 😊\n",
            "\n",
            "------------------------------------------------------------------------------------------------------------------------------------------------------------------------------\n",
            "\n",
            "Digite o nome de um filme: Tron\n",
            "\n",
            "🎬 Filmes com estética similar a Tron:\n",
            "\n",
            "1. The Last Starfighter (1984) - Adolescente é recrutado para lutar em uma guerra interestelar em um mundo virtual.\n",
            "2. Strange Days (1995) - Comercializador descobre tecnologia que permite reviver memórias e se vê envolvido em uma conspiração em um mundo acelerado e digitalizado.\n",
            "3. Matrix (1999) - Hacker descobre que sua realidade é uma simulação e luta para libertar sua mente em um mundo digital e opressor.\n",
            "4. eXistenZ (1999) - Designer de videogames cria um jogo imersivo que se torna indistinguível da realidade.\n",
            "5. Tron. O Legado (2010) - Filho do criador do Tron é transportado para o mundo virtual criado por seu pai.\n",
            "\n",
            "\n",
            "🎬 Filmes com temas semelhantes a Tron:\n",
            "\n",
            "1. Matrix (1999) - Hacker descobre que sua realidade é uma simulação e luta para libertar sua mente em um mundo digital e opressor.\n",
            "2. Blade Runner (1982) - Caçador de recompensas rastreia replicantes (androides) rebeldes em um futuro distópico e digitalizado.\n",
            "3. Akira (1988) - Motoqueiro adolescente adquire poderes psíquicos após um acidente em uma Tóquio futurista e cyberpunk.\n",
            "4. Minority Report - A Precognição do Crime (2002) - Em um futuro onde crimes podem ser previstos, um policial é acusado de um assassinato que ele ainda não cometeu.\n",
            "5. Existenz (1999) - Designer de videogames cria um jogo imersivo que se torna indistinguível da realidade.\n",
            "\n",
            "\n",
            "🎬 Outras sugestões:\n",
            "\n",
            "1. Matrix (1999) - Hacker descobre que sua realidade é uma simulação e luta para libertar sua mente em um mundo digital e opressor.\n",
            "2. Existenz (1999) - Designer de videogames cria um jogo imersivo que se torna indistinguível da realidade.\n",
            "\n",
            "\n",
            "Espero que essas recomendações te ajudem a encontrar filmes que te agradem! 😊\n",
            "\n",
            "------------------------------------------------------------------------------------------------------------------------------------------------------------------------------\n",
            "\n",
            "Digite o nome de um filme: Fim\n",
            "\n",
            "------------------------------------------------------------------------------------------------------------------------------------------------------------------------------\n",
            "\n",
            "Obrigado por utilizar o sistema de recomendações! 😊 Até a próxima!\n"
          ]
        }
      ]
    }
  ],
  "metadata": {
    "colab": {
      "provenance": [],
      "authorship_tag": "ABX9TyMbLAauhFcEZp71CK5RGLpe",
      "include_colab_link": true
    },
    "kernelspec": {
      "display_name": "Python 3",
      "name": "python3"
    },
    "language_info": {
      "name": "python"
    }
  },
  "nbformat": 4,
  "nbformat_minor": 0
}
